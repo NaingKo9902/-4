{
  "nbformat": 4,
  "nbformat_minor": 0,
  "metadata": {
    "colab": {
      "name": "Untitled14.ipynb",
      "provenance": [],
      "authorship_tag": "ABX9TyN9uA7gRfYX1ZBcMK3HP7M8",
      "include_colab_link": true
    },
    "kernelspec": {
      "name": "python3",
      "display_name": "Python 3"
    }
  },
  "cells": [
    {
      "cell_type": "markdown",
      "metadata": {
        "id": "view-in-github",
        "colab_type": "text"
      },
      "source": [
        "<a href=\"https://colab.research.google.com/github/NaingKo9902/-4/blob/master/Lab06_2.ipynb\" target=\"_parent\"><img src=\"https://colab.research.google.com/assets/colab-badge.svg\" alt=\"Open In Colab\"/></a>"
      ]
    },
    {
      "cell_type": "code",
      "metadata": {
        "id": "mz_M2cb_oNmV",
        "colab_type": "code",
        "colab": {
          "base_uri": "https://localhost:8080/",
          "height": 35
        },
        "outputId": "09344f80-532c-422f-9c7c-9af52f5d721e"
      },
      "source": [
        "%tensorflow_version 1.x"
      ],
      "execution_count": 1,
      "outputs": [
        {
          "output_type": "stream",
          "text": [
            "TensorFlow 1.x selected.\n"
          ],
          "name": "stdout"
        }
      ]
    },
    {
      "cell_type": "code",
      "metadata": {
        "id": "KHHEd9RKob1E",
        "colab_type": "code",
        "colab": {}
      },
      "source": [
        "import numpy as np\n",
        "import random\n",
        "import math\n",
        "import tensorflow as tf\n",
        "import matplotlib.pyplot as plt"
      ],
      "execution_count": 0,
      "outputs": []
    },
    {
      "cell_type": "code",
      "metadata": {
        "id": "EK9V57ltohD6",
        "colab_type": "code",
        "colab": {}
      },
      "source": [
        "def generate_x_y_data_two_freqs(isTrain , batch_size , seq_length):\n",
        "    batch_x = [] \n",
        "    batch_y = []\n",
        "\n",
        "    for _ in range(batch_size):\n",
        "        offset_rand = random.random() * 2 * math.pi\n",
        "        freq_rand = (random.random() - 0.5) / 1.5 * 15 + 0.5\n",
        "        amp_rand = random.random() + 0.1\n",
        "        \n",
        "        sig1 = amp_rand * np.sin(np.linspace(\n",
        "            seq_length / 15.0 * freq_rand * 0.0 * math.pi + offset_rand,\n",
        "            seq_length / 15.0 * freq_rand * 3.0 * math.pi + offset_rand , seq_length * 2)\n",
        "        )\n",
        "        \n",
        "        offset_rand = random.random() * 2 * math.pi\n",
        "        freq_rand = (random.random() - 0.5) / 1.5 * 15 + 0.5\n",
        "        amp_rand = random.random() * 1.2\n",
        "        sig1 = amp_rand * np.cos(np.linspace(\n",
        "            seq_length / 15.0 * freq_rand * 0.0 * math.pi + offset_rand,\n",
        "            seq_length / 15.0 * freq_rand * 3.0 * math.pi + offset_rand , seq_length * 2)\n",
        "        ) + sig1\n",
        "        \n",
        "        x1 = sig1[:seq_length]\n",
        "        y1 = sig1[seq_length:]\n",
        "        x_ = np.array([x1])\n",
        "        y_ = np.array([y1])\n",
        "        x_, y_ = x_.T, y_.T\n",
        "        \n",
        "        batch_x.append(x_)\n",
        "        batch_y.append(y_)\n",
        "        \n",
        "    batch_x = np.array(batch_x)\n",
        "    batch_y = np.array(batch_y)\n",
        "    # размерность: (batch_size , seq_length , output_dim)\n",
        "    batch_x = np.array(batch_x).transpose((1, 0, 2))\n",
        "    batch_y = np.array(batch_y).transpose((1, 0, 2))\n",
        "    # размерность: (seq_length , batch_size , output_dim)\n",
        "\n",
        "    return batch_x , batch_y"
      ],
      "execution_count": 0,
      "outputs": []
    },
    {
      "cell_type": "code",
      "metadata": {
        "id": "WpjWzSuVoljp",
        "colab_type": "code",
        "colab": {}
      },
      "source": [
        "def generate_x_y_data_v2(isTrain, batch_size):\n",
        "    return generate_x_y_data_two_freqs(isTrain, batch_size, seq_length=15)"
      ],
      "execution_count": 0,
      "outputs": []
    },
    {
      "cell_type": "code",
      "metadata": {
        "id": "PIj_oY87oo7-",
        "colab_type": "code",
        "colab": {}
      },
      "source": [
        "# Данные имеют размерность (seq_length , batch_size , output_dim) \n",
        "sample_x , sample_y = generate_x_y_data_v2(isTrain=True , batch_size=3)\n",
        "\n",
        "# Длина последовательности (в данных примерах одинаковая для обучающих и тестовых данных)\n",
        "seq_length = sample_x.shape[0] \n",
        "\n",
        "# Размер пакета количество(тестовых примеров), по которому усредняется градиент\n",
        "batch_size = 100\n",
        "# Размерность выходных данных \n",
        "output_dim = input_dim = sample_x.shape[-1]\n",
        "# Количество скрытых нейронов в каждой ячейке\n",
        "hidden_dim = 50\n",
        "# Количество ячеек рекуррентной сети (в глубину)\n",
        "layers_stacked_count = 1\n",
        "\n",
        "# Параметры оптимизатора \n",
        "# Скорость обучения маленькая (скорость обучения позволяет алгоритму не расходиться во время обучения)\n",
        "learning_rate = 0.005\n",
        "# Количество итераций по обучающей выборке \n",
        "nb_iters = 1000\n",
        "# Дополнительные параметры алгоритма оптимизации\n",
        "lr_decay = 0.9\n",
        "momentum = 0.8\n",
        "# Коэффициент L2 регуляризации\n",
        "lambda_l2_reg = 1e-10"
      ],
      "execution_count": 0,
      "outputs": []
    },
    {
      "cell_type": "code",
      "metadata": {
        "id": "vcAXyB2UosN4",
        "colab_type": "code",
        "colab": {
          "base_uri": "https://localhost:8080/",
          "height": 156
        },
        "outputId": "1f1034b9-8cdf-4748-fa7c-f6045fea75b8"
      },
      "source": [
        "tf.nn.seq2seq = tf.contrib.legacy_seq2seq\n",
        "tf.nn.rnn_cell = tf.contrib.rnn\n",
        "tf.nn.rnn_cell.GRUCell = tf.contrib.rnn.GRUCell"
      ],
      "execution_count": 6,
      "outputs": [
        {
          "output_type": "stream",
          "text": [
            "WARNING:tensorflow:\n",
            "The TensorFlow contrib module will not be included in TensorFlow 2.0.\n",
            "For more information, please see:\n",
            "  * https://github.com/tensorflow/community/blob/master/rfcs/20180907-contrib-sunset.md\n",
            "  * https://github.com/tensorflow/addons\n",
            "  * https://github.com/tensorflow/io (for I/O related ops)\n",
            "If you depend on functionality not listed there, please file an issue.\n",
            "\n"
          ],
          "name": "stdout"
        }
      ]
    },
    {
      "cell_type": "code",
      "metadata": {
        "id": "stMV6wlQovgG",
        "colab_type": "code",
        "colab": {}
      },
      "source": [
        "tf.reset_default_graph()\n",
        "# интерактивная сессия\n",
        "sess = tf.InteractiveSession()"
      ],
      "execution_count": 0,
      "outputs": []
    },
    {
      "cell_type": "code",
      "metadata": {
        "id": "BSqMLDWyozeq",
        "colab_type": "code",
        "colab": {
          "base_uri": "https://localhost:8080/",
          "height": 349
        },
        "outputId": "ca143b25-3a40-4df5-bdc7-14b1d3bb9385"
      },
      "source": [
        "with tf.variable_scope('Seq2seq'):\n",
        "    enc_inp = [\n",
        "        tf.placeholder(tf.float32, shape=(None, input_dim), name=\"inp_{}\".format(t))\n",
        "            for t in range(seq_length)\n",
        "    ]\n",
        "\n",
        "    expected_sparse_output = [\n",
        "        tf.placeholder(tf.float32 , shape=(None , output_dim), name=\"expected_sparse_output_\".format(t))\n",
        "            for t in range(seq_length)\n",
        "    ]\n",
        "    \n",
        "    dec_inp = [ tf.zeros_like(enc_inp[0], dtype=np.float32 , name=\"GO\") ] + enc_inp[:-1]\n",
        "    \n",
        "    cells = []\n",
        "    for i in range(layers_stacked_count):\n",
        "        with tf.variable_scope('RNN_{}'.format(i)):\n",
        "            cells.append(tf.nn.rnn_cell.GRUCell(hidden_dim))\n",
        "            \n",
        "    cell = tf.nn.rnn_cell.MultiRNNCell(cells)\n",
        "    \n",
        "    w_in = tf.Variable(tf.random_normal([input_dim , hidden_dim]))\n",
        "    b_in = tf.Variable(tf.random_normal([hidden_dim], mean=1.0))\n",
        "    w_out = tf.Variable(tf.random_normal([hidden_dim , output_dim]))\n",
        "    b_out = tf.Variable(tf.random_normal([output_dim]))\n",
        "\n",
        "    reshaped_inputs = [tf.nn.relu(tf.matmul(i, w_in) + b_in) for i in enc_inp]\n",
        "    \n",
        "    dec_outputs, dec_memory = tf.nn.seq2seq.basic_rnn_seq2seq(enc_inp, dec_inp, cell)\n",
        "    \n",
        "    output_scale_factor = tf.Variable(1.0, name=\"Output_ScaleFactor\")\n",
        "    reshaped_outputs = [output_scale_factor * (tf.matmul(i, w_out) + b_out) for i in dec_outputs]"
      ],
      "execution_count": 8,
      "outputs": [
        {
          "output_type": "stream",
          "text": [
            "WARNING:tensorflow:From <ipython-input-8-a9e263b0cf24>:17: GRUCell.__init__ (from tensorflow.python.ops.rnn_cell_impl) is deprecated and will be removed in a future version.\n",
            "Instructions for updating:\n",
            "This class is equivalent as tf.keras.layers.GRUCell, and will be replaced by that in Tensorflow 2.0.\n",
            "WARNING:tensorflow:From <ipython-input-8-a9e263b0cf24>:19: MultiRNNCell.__init__ (from tensorflow.python.ops.rnn_cell_impl) is deprecated and will be removed in a future version.\n",
            "Instructions for updating:\n",
            "This class is equivalent as tf.keras.layers.StackedRNNCells, and will be replaced by that in Tensorflow 2.0.\n",
            "WARNING:tensorflow:From /tensorflow-1.15.2/python3.6/tensorflow_core/contrib/legacy_seq2seq/python/ops/seq2seq.py:186: static_rnn (from tensorflow.python.ops.rnn) is deprecated and will be removed in a future version.\n",
            "Instructions for updating:\n",
            "Please use `keras.layers.RNN(cell, unroll=True)`, which is equivalent to this API\n",
            "WARNING:tensorflow:From /tensorflow-1.15.2/python3.6/tensorflow_core/python/ops/rnn_cell_impl.py:559: Layer.add_variable (from tensorflow.python.keras.engine.base_layer) is deprecated and will be removed in a future version.\n",
            "Instructions for updating:\n",
            "Please use `layer.add_weight` method instead.\n",
            "WARNING:tensorflow:From /tensorflow-1.15.2/python3.6/tensorflow_core/python/ops/rnn_cell_impl.py:565: calling Constant.__init__ (from tensorflow.python.ops.init_ops) with dtype is deprecated and will be removed in a future version.\n",
            "Instructions for updating:\n",
            "Call initializer instance with the dtype argument instead of passing it to the constructor\n",
            "WARNING:tensorflow:From /tensorflow-1.15.2/python3.6/tensorflow_core/python/ops/rnn_cell_impl.py:575: calling Zeros.__init__ (from tensorflow.python.ops.init_ops) with dtype is deprecated and will be removed in a future version.\n",
            "Instructions for updating:\n",
            "Call initializer instance with the dtype argument instead of passing it to the constructor\n"
          ],
          "name": "stdout"
        }
      ]
    },
    {
      "cell_type": "code",
      "metadata": {
        "id": "14IZpZw5o39T",
        "colab_type": "code",
        "colab": {}
      },
      "source": [
        "with tf.variable_scope('Loss'):\n",
        "    # L2 loss\n",
        "    output_loss = 0\n",
        "    for _y, _Y in zip(reshaped_outputs, expected_sparse_output):\n",
        "        output_loss += tf.reduce_mean(tf.nn.l2_loss(_y - _Y))\n",
        "\n",
        "    # слагаемое, отвечающее за L2 регуляризацию\n",
        "    reg_loss = 0\n",
        "    for tf_var in tf.trainable_variables():\n",
        "        if not (\"Bias\" in tf_var.name or \"Output_\" in tf_var.name):\n",
        "            reg_loss += tf.reduce_mean(tf.nn.l2_loss(tf_var))\n",
        "\n",
        "    loss = output_loss  + lambda_l2_reg * reg_loss"
      ],
      "execution_count": 0,
      "outputs": []
    },
    {
      "cell_type": "code",
      "metadata": {
        "id": "fxEqCAilo8Ay",
        "colab_type": "code",
        "colab": {
          "base_uri": "https://localhost:8080/",
          "height": 89
        },
        "outputId": "0a718fe0-cabd-4dec-ae9f-1ca91a7e9af5"
      },
      "source": [
        "with tf.variable_scope('Optimizer'):\n",
        "    optimizer = tf.train.RMSPropOptimizer(learning_rate, decay=lr_decay, momentum=momentum)\n",
        "    train_op = optimizer.minimize(loss)"
      ],
      "execution_count": 10,
      "outputs": [
        {
          "output_type": "stream",
          "text": [
            "WARNING:tensorflow:From /tensorflow-1.15.2/python3.6/tensorflow_core/python/training/rmsprop.py:119: calling Ones.__init__ (from tensorflow.python.ops.init_ops) with dtype is deprecated and will be removed in a future version.\n",
            "Instructions for updating:\n",
            "Call initializer instance with the dtype argument instead of passing it to the constructor\n"
          ],
          "name": "stdout"
        }
      ]
    },
    {
      "cell_type": "code",
      "metadata": {
        "id": "c1pMmZxCo_iu",
        "colab_type": "code",
        "colab": {}
      },
      "source": [
        "# Шаг обучения, который оптимизирует веса в соответствии с переданным минипакетом-примеров\n",
        "def train_batch(batch_size):\n",
        "    X, Y = generate_x_y_data_v2(isTrain=True , batch_size=batch_size)\n",
        "    feed_dict = {enc_inp[t]: X[t] for t in range(len(enc_inp))} \n",
        "    feed_dict.update({expected_sparse_output[t]: Y[t] for t in range(len(expected_sparse_output))}) \n",
        "    #  запускаем сессию. При этом рассчитываются тензоры, указанные в первом параметре, \n",
        "    # а значения для них берутся из второго параметра\n",
        "    _, loss_t = sess.run([train_op , loss], feed_dict)\n",
        "    \n",
        "    return loss_t"
      ],
      "execution_count": 0,
      "outputs": []
    },
    {
      "cell_type": "code",
      "metadata": {
        "id": "KwiR3JHYpDRA",
        "colab_type": "code",
        "colab": {
          "base_uri": "https://localhost:8080/",
          "height": 1000
        },
        "outputId": "b94052e5-2432-4f6e-b877-766884e8f01d"
      },
      "source": [
        "# Тестовый прогон. Веса не обновляются благодаря тому, что переменная train_op не передается в sess.run\n",
        "def test_batch(batch_size, graph=False): \n",
        "    X, Y = generate_x_y_data_v2(isTrain=False, batch_size=batch_size)\n",
        "    feed_dict = {enc_inp[t]: X[t] for t in range(len(enc_inp))}\n",
        "    feed_dict.update({expected_sparse_output[t]: Y[t] for t in range(len(expected_sparse_output))}) \n",
        "    loss_t = sess.run([loss], feed_dict)\n",
        "    \n",
        "    return loss_t[0]\n",
        "\n",
        "train_losses = []\n",
        "test_losses = []\n",
        "sess.run(tf.global_variables_initializer())\n",
        "\n",
        "#nb_iters - количество шагов для обучения. После каждых 10 шагов проверяется ошибка на тестовой выборке\n",
        "\n",
        "\n",
        "for t in range(nb_iters+1):\n",
        "    train_loss = train_batch(batch_size)\n",
        "    train_losses.append(train_loss)\n",
        "\n",
        "    if t % 10 == 0:\n",
        "        test_loss = test_batch(batch_size, t==nb_iters)\n",
        "        test_losses.append(test_loss)\n",
        "        print(\"Step {}/{}, train loss: {}, \\tTEST loss: {}\".format(t, nb_iters , train_loss , test_loss))\n",
        "\n",
        "print(\"Fin. train loss: {}, \\tTEST loss: {}\".format(train_loss , test_loss))"
      ],
      "execution_count": 12,
      "outputs": [
        {
          "output_type": "stream",
          "text": [
            "Step 0/1000, train loss: 961.6677856445312, \tTEST loss: 436.68707275390625\n",
            "Step 10/1000, train loss: 335.66827392578125, \tTEST loss: 355.7904968261719\n",
            "Step 20/1000, train loss: 385.55419921875, \tTEST loss: 368.31732177734375\n",
            "Step 30/1000, train loss: 299.5146179199219, \tTEST loss: 350.0388488769531\n",
            "Step 40/1000, train loss: 333.1275939941406, \tTEST loss: 364.5869140625\n",
            "Step 50/1000, train loss: 323.7052001953125, \tTEST loss: 354.7668151855469\n",
            "Step 60/1000, train loss: 307.0953674316406, \tTEST loss: 299.54583740234375\n",
            "Step 70/1000, train loss: 316.2568664550781, \tTEST loss: 304.0010986328125\n",
            "Step 80/1000, train loss: 313.72198486328125, \tTEST loss: 266.9123229980469\n",
            "Step 90/1000, train loss: 298.8094482421875, \tTEST loss: 277.5869140625\n",
            "Step 100/1000, train loss: 294.9202575683594, \tTEST loss: 236.52561950683594\n",
            "Step 110/1000, train loss: 285.5269775390625, \tTEST loss: 268.6685485839844\n",
            "Step 120/1000, train loss: 243.4815216064453, \tTEST loss: 250.6949920654297\n",
            "Step 130/1000, train loss: 262.0332946777344, \tTEST loss: 247.96200561523438\n",
            "Step 140/1000, train loss: 242.85169982910156, \tTEST loss: 254.9904022216797\n",
            "Step 150/1000, train loss: 261.7127685546875, \tTEST loss: 249.6752471923828\n",
            "Step 160/1000, train loss: 184.2897186279297, \tTEST loss: 186.053955078125\n",
            "Step 170/1000, train loss: 258.3060302734375, \tTEST loss: 224.7530517578125\n",
            "Step 180/1000, train loss: 201.84918212890625, \tTEST loss: 218.66151428222656\n",
            "Step 190/1000, train loss: 168.1573944091797, \tTEST loss: 233.22804260253906\n",
            "Step 200/1000, train loss: 196.29486083984375, \tTEST loss: 168.62515258789062\n",
            "Step 210/1000, train loss: 201.3612823486328, \tTEST loss: 237.24192810058594\n",
            "Step 220/1000, train loss: 189.156982421875, \tTEST loss: 199.27114868164062\n",
            "Step 230/1000, train loss: 159.70437622070312, \tTEST loss: 219.73387145996094\n",
            "Step 240/1000, train loss: 168.5013427734375, \tTEST loss: 238.8048095703125\n",
            "Step 250/1000, train loss: 169.1353759765625, \tTEST loss: 168.88461303710938\n",
            "Step 260/1000, train loss: 227.23519897460938, \tTEST loss: 216.6234588623047\n",
            "Step 270/1000, train loss: 231.44345092773438, \tTEST loss: 232.1934356689453\n",
            "Step 280/1000, train loss: 170.67031860351562, \tTEST loss: 228.08335876464844\n",
            "Step 290/1000, train loss: 160.05813598632812, \tTEST loss: 151.7513885498047\n",
            "Step 300/1000, train loss: 224.00904846191406, \tTEST loss: 201.2583465576172\n",
            "Step 310/1000, train loss: 197.07371520996094, \tTEST loss: 181.9348602294922\n",
            "Step 320/1000, train loss: 166.93882751464844, \tTEST loss: 159.41905212402344\n",
            "Step 330/1000, train loss: 182.8016357421875, \tTEST loss: 171.02391052246094\n",
            "Step 340/1000, train loss: 207.5555419921875, \tTEST loss: 222.02334594726562\n",
            "Step 350/1000, train loss: 181.90780639648438, \tTEST loss: 222.8954620361328\n",
            "Step 360/1000, train loss: 170.97445678710938, \tTEST loss: 186.0210418701172\n",
            "Step 370/1000, train loss: 161.65185546875, \tTEST loss: 169.66529846191406\n",
            "Step 380/1000, train loss: 174.76097106933594, \tTEST loss: 173.78578186035156\n",
            "Step 390/1000, train loss: 228.46783447265625, \tTEST loss: 161.5055389404297\n",
            "Step 400/1000, train loss: 177.714111328125, \tTEST loss: 160.34701538085938\n",
            "Step 410/1000, train loss: 173.86837768554688, \tTEST loss: 176.30355834960938\n",
            "Step 420/1000, train loss: 147.93264770507812, \tTEST loss: 125.06501770019531\n",
            "Step 430/1000, train loss: 186.85206604003906, \tTEST loss: 154.0705108642578\n",
            "Step 440/1000, train loss: 171.7562713623047, \tTEST loss: 178.7664337158203\n",
            "Step 450/1000, train loss: 122.08261108398438, \tTEST loss: 139.59988403320312\n",
            "Step 460/1000, train loss: 132.10797119140625, \tTEST loss: 162.10243225097656\n",
            "Step 470/1000, train loss: 143.67616271972656, \tTEST loss: 134.76449584960938\n",
            "Step 480/1000, train loss: 177.17774963378906, \tTEST loss: 132.7080535888672\n",
            "Step 490/1000, train loss: 134.6787872314453, \tTEST loss: 149.4160614013672\n",
            "Step 500/1000, train loss: 111.00118255615234, \tTEST loss: 150.39508056640625\n",
            "Step 510/1000, train loss: 192.1495361328125, \tTEST loss: 132.00038146972656\n",
            "Step 520/1000, train loss: 125.33861541748047, \tTEST loss: 124.53282165527344\n",
            "Step 530/1000, train loss: 132.34498596191406, \tTEST loss: 125.66896057128906\n",
            "Step 540/1000, train loss: 148.89744567871094, \tTEST loss: 148.83030700683594\n",
            "Step 550/1000, train loss: 124.44187927246094, \tTEST loss: 126.89679718017578\n",
            "Step 560/1000, train loss: 139.70213317871094, \tTEST loss: 157.71932983398438\n",
            "Step 570/1000, train loss: 114.94589233398438, \tTEST loss: 139.29014587402344\n",
            "Step 580/1000, train loss: 123.44212341308594, \tTEST loss: 126.62580871582031\n",
            "Step 590/1000, train loss: 116.4153060913086, \tTEST loss: 88.99028015136719\n",
            "Step 600/1000, train loss: 102.04304504394531, \tTEST loss: 128.37673950195312\n",
            "Step 610/1000, train loss: 121.99828338623047, \tTEST loss: 128.428955078125\n",
            "Step 620/1000, train loss: 74.50442504882812, \tTEST loss: 123.90080261230469\n",
            "Step 630/1000, train loss: 97.95487976074219, \tTEST loss: 135.49819946289062\n",
            "Step 640/1000, train loss: 130.03587341308594, \tTEST loss: 150.28704833984375\n",
            "Step 650/1000, train loss: 129.3637237548828, \tTEST loss: 118.35396575927734\n",
            "Step 660/1000, train loss: 98.2190170288086, \tTEST loss: 104.07125854492188\n",
            "Step 670/1000, train loss: 128.99716186523438, \tTEST loss: 134.39540100097656\n",
            "Step 680/1000, train loss: 149.7323760986328, \tTEST loss: 106.59642028808594\n",
            "Step 690/1000, train loss: 109.57465362548828, \tTEST loss: 116.95474243164062\n",
            "Step 700/1000, train loss: 115.91577911376953, \tTEST loss: 113.42347717285156\n",
            "Step 710/1000, train loss: 109.6002426147461, \tTEST loss: 88.76873779296875\n",
            "Step 720/1000, train loss: 110.97933959960938, \tTEST loss: 121.82158660888672\n",
            "Step 730/1000, train loss: 109.42778015136719, \tTEST loss: 134.6614990234375\n",
            "Step 740/1000, train loss: 112.51206970214844, \tTEST loss: 134.65487670898438\n",
            "Step 750/1000, train loss: 115.90701293945312, \tTEST loss: 92.07312774658203\n",
            "Step 760/1000, train loss: 106.33280944824219, \tTEST loss: 116.73703002929688\n",
            "Step 770/1000, train loss: 137.1251678466797, \tTEST loss: 110.19242095947266\n",
            "Step 780/1000, train loss: 105.3808822631836, \tTEST loss: 94.01273345947266\n",
            "Step 790/1000, train loss: 96.89187622070312, \tTEST loss: 87.52587890625\n",
            "Step 800/1000, train loss: 89.88368225097656, \tTEST loss: 82.23609924316406\n",
            "Step 810/1000, train loss: 112.18326568603516, \tTEST loss: 134.94044494628906\n",
            "Step 820/1000, train loss: 93.2103500366211, \tTEST loss: 80.78992462158203\n",
            "Step 830/1000, train loss: 104.5205078125, \tTEST loss: 98.8609848022461\n",
            "Step 840/1000, train loss: 104.37982177734375, \tTEST loss: 85.31974792480469\n",
            "Step 850/1000, train loss: 89.43826293945312, \tTEST loss: 99.5493392944336\n",
            "Step 860/1000, train loss: 80.02716064453125, \tTEST loss: 94.480224609375\n",
            "Step 870/1000, train loss: 113.38835906982422, \tTEST loss: 96.19683837890625\n",
            "Step 880/1000, train loss: 76.47779846191406, \tTEST loss: 85.70484161376953\n",
            "Step 890/1000, train loss: 100.87677764892578, \tTEST loss: 97.5857925415039\n",
            "Step 900/1000, train loss: 101.62345886230469, \tTEST loss: 136.4668426513672\n",
            "Step 910/1000, train loss: 109.31582641601562, \tTEST loss: 93.880859375\n",
            "Step 920/1000, train loss: 108.85736083984375, \tTEST loss: 108.47981262207031\n",
            "Step 930/1000, train loss: 120.28231048583984, \tTEST loss: 91.97235870361328\n",
            "Step 940/1000, train loss: 93.29856872558594, \tTEST loss: 125.98041534423828\n",
            "Step 950/1000, train loss: 66.65022277832031, \tTEST loss: 70.36680603027344\n",
            "Step 960/1000, train loss: 64.056640625, \tTEST loss: 92.24320983886719\n",
            "Step 970/1000, train loss: 86.36128997802734, \tTEST loss: 90.50212860107422\n",
            "Step 980/1000, train loss: 105.39838409423828, \tTEST loss: 84.9069595336914\n",
            "Step 990/1000, train loss: 115.61735534667969, \tTEST loss: 113.60911560058594\n",
            "Step 1000/1000, train loss: 82.160400390625, \tTEST loss: 103.00215148925781\n",
            "Fin. train loss: 82.160400390625, \tTEST loss: 103.00215148925781\n"
          ],
          "name": "stdout"
        }
      ]
    },
    {
      "cell_type": "code",
      "metadata": {
        "id": "DEV23aQ1pNbb",
        "colab_type": "code",
        "colab": {
          "base_uri": "https://localhost:8080/",
          "height": 392
        },
        "outputId": "b66c89de-9211-4adb-99c7-1fbe952dcd92"
      },
      "source": [
        "plt.figure(figsize=(12, 6))\n",
        "plt.plot( np.array(range(0, len(test_losses)))/float(len(test_losses)-1)*(len(train_losses)-1), np.log(test_losses), label=\"Test loss\")\n",
        "plt.plot(np.log(train_losses), label=\"Train loss\")\n",
        "\n",
        "#log scale\n",
        "plt.legend([\"Test\",\"Train\"])\n",
        "plt.xlabel('Iteration')\n",
        "plt.ylabel('log(Loss)') \n",
        "plt.show()"
      ],
      "execution_count": 13,
      "outputs": [
        {
          "output_type": "display_data",
          "data": {
            "image/png": "[encoded data removed]",
            "text/plain": [
              "<Figure size 864x432 with 1 Axes>"
            ]
          },
          "metadata": {
            "tags": [],
            "needs_background": "light"
          }
        }
      ]
    },
    {
      "cell_type": "code",
      "metadata": {
        "id": "726_a1JepXhY",
        "colab_type": "code",
        "colab": {
          "base_uri": "https://localhost:8080/",
          "height": 470
        },
        "outputId": "aea1e1f3-9e29-4506-bed5-ec07edd1d2e7"
      },
      "source": [
        "nb_predictions = 1\n",
        "print (\" Let 's visualize {} predictions with our signals :\". format (nb_predictions ))\n",
        "X, Y = generate_x_y_data_v2( isTrain =False , batch_size = nb_predictions )\n",
        "feed_dict = { enc_inp [t]: X[t] for t in range ( seq_length )}\n",
        "outputs = np.array( sess.run([ reshaped_outputs ], feed_dict )[0])\n",
        "# выводим предсказания по каждому пакету\n",
        "for j in range ( nb_predictions ):\n",
        "    plt.figure( figsize =(12 , 3))\n",
        "    for k in range ( output_dim ):\n",
        "        past = X[:,j,k]\n",
        "        expected = Y[:,j,k]\n",
        "        pred = outputs [:,j,k]\n",
        "    label1 = \" Seen ( past ) values \" if k ==0 else \" _nolegend_ \"\n",
        "    label2 = \" True future values \" if k ==0 else \" _nolegend_ \"\n",
        "    label3 = \" Predictions \" if k ==0 else \" _nolegend_ \"\n",
        "    plt.plot(range(len(past)), past , \"o--b\", label = label1 )\n",
        "    plt.plot(range(len(past),len(expected)+len(past)), expected, \"x--b\", label = label2)\n",
        "    plt.plot(range(len(past),len(pred) + len (past)), pred , \"o--y\", label = label3 )\n",
        "    plt.legend( loc ='best ')\n",
        "    plt.title(\" Predictions v.s. true values \")\n",
        "    plt.show()"
      ],
      "execution_count": 14,
      "outputs": [
        {
          "output_type": "stream",
          "text": [
            " Let 's visualize 1 predictions with our signals :\n"
          ],
          "name": "stdout"
        },
        {
          "output_type": "stream",
          "text": [
            "/usr/local/lib/python3.6/dist-packages/ipykernel_launcher.py:19: MatplotlibDeprecationWarning: Unrecognized location 'best '. Falling back on 'best'; valid locations are\n",
            "\tbest\n",
            "\tupper right\n",
            "\tupper left\n",
            "\tlower left\n",
            "\tlower right\n",
            "\tright\n",
            "\tcenter left\n",
            "\tcenter right\n",
            "\tlower center\n",
            "\tupper center\n",
            "\tcenter\n",
            "This will raise an exception in 3.3.\n"
          ],
          "name": "stderr"
        },
        {
          "output_type": "display_data",
          "data": {
            "image/png": "[encoded data removed]",
            "text/plain": [
              "<Figure size 864x216 with 1 Axes>"
            ]
          },
          "metadata": {
            "tags": [],
            "needs_background": "light"
          }
        }
      ]
    }
  ]
}