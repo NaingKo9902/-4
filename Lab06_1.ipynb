{
  "nbformat": 4,
  "nbformat_minor": 0,
  "metadata": {
    "colab": {
      "name": "Untitled13.ipynb",
      "provenance": [],
      "authorship_tag": "ABX9TyMmd+FWNLPhXLrSSw+owv/l",
      "include_colab_link": true
    },
    "kernelspec": {
      "name": "python3",
      "display_name": "Python 3"
    }
  },
  "cells": [
    {
      "cell_type": "markdown",
      "metadata": {
        "id": "view-in-github",
        "colab_type": "text"
      },
      "source": [
        "<a href=\"https://colab.research.google.com/github/NaingKo9902/-4/blob/master/Lab06_1.ipynb\" target=\"_parent\"><img src=\"https://colab.research.google.com/assets/colab-badge.svg\" alt=\"Open In Colab\"/></a>"
      ]
    },
    {
      "cell_type": "code",
      "metadata": {
        "id": "URx5M_ejku-p",
        "colab_type": "code",
        "colab": {
          "base_uri": "https://localhost:8080/",
          "height": 35
        },
        "outputId": "0ddef38b-9330-413a-a9a6-9910e9cf7c62"
      },
      "source": [
        "%tensorflow_version 1.x"
      ],
      "execution_count": 1,
      "outputs": [
        {
          "output_type": "stream",
          "text": [
            "TensorFlow 1.x selected.\n"
          ],
          "name": "stdout"
        }
      ]
    },
    {
      "cell_type": "code",
      "metadata": {
        "id": "WzEk915Dk0bW",
        "colab_type": "code",
        "colab": {}
      },
      "source": [
        "import numpy as np\n",
        "import random\n",
        "import math\n",
        "import tensorflow as tf\n",
        "import matplotlib.pyplot as plt"
      ],
      "execution_count": 0,
      "outputs": []
    },
    {
      "cell_type": "code",
      "metadata": {
        "id": "2W346xMvk5hd",
        "colab_type": "code",
        "colab": {}
      },
      "source": [
        "def generate_x_y_data_v1(isTrain, batch_size):\n",
        "    seq_length = 10\n",
        "    \n",
        "    batch_x = []\n",
        "    batch_y = []\n",
        "    for _ in range(batch_size): \n",
        "        # Одна итерация цикла генерирует 1 пакет данных \n",
        "        rand = random.random() * 2 * math.pi\n",
        "        \n",
        "        # Генерируем набор данных по заданному закону\n",
        "        # генерирует набор точек, равномерно распредленных по заданному интервалу \n",
        "        # (границы интервала смещены на случайную величину)\n",
        "        sig1 = np.sin(np.linspace(0.0 * math.pi + rand , 3.0 * math.pi + rand , seq_length * 2))\n",
        "        sig2 = np.cos(np.linspace(0.0 * math.pi + rand , 3.0 * math.pi + rand , seq_length * 2))\n",
        "        \n",
        "        # первую половину сигналов берем на обучающую выборку, вторую - на контрольную\n",
        "        x1 = sig1[:seq_length]\n",
        "        y1 = sig1[seq_length:]\n",
        "        x2 = sig2[:seq_length]\n",
        "        y2 = sig2[seq_length:]\n",
        "        \n",
        "        x_ = np.array([x1, x2])\n",
        "        y_ = np.array([y1, y2])\n",
        "        x_, y_ = x_.T, y_.T\n",
        "    \n",
        "        batch_x.append(x_)\n",
        "        batch_y.append(y_)\n",
        "    \n",
        "    batch_x = np.array(batch_x)\n",
        "    batch_y = np.array(batch_y) \n",
        "    # размерность: (batch_size , seq_length , output_dim)\n",
        "    # транспонируем, чтобы привести к нужной размерности\n",
        "    batch_x = np.array(batch_x).transpose((1, 0, 2))\n",
        "    batch_y = np.array(batch_y).transpose((1, 0, 2)) \n",
        "    # размерность: (seq_length , batch_size , output_dim)\n",
        "    \n",
        "    return batch_x , batch_y"
      ],
      "execution_count": 0,
      "outputs": []
    },
    {
      "cell_type": "code",
      "metadata": {
        "id": "fHNdPFMvk-OY",
        "colab_type": "code",
        "colab": {}
      },
      "source": [
        "# Данные имеют размерность (seq_length , batch_size , output_dim) \n",
        "sample_x , sample_y = generate_x_y_data_v1(isTrain=True , batch_size=3)\n",
        "\n",
        "# Длина последовательности (в данных примерах одинаковая для обучающих и тестовых данных)\n",
        "seq_length = sample_x.shape[0] \n",
        "\n",
        "# Размер пакета количество(тестовых примеров), по которому усредняется градиент\n",
        "batch_size = 6\n",
        "# Размерность выходных данных \n",
        "output_dim = input_dim = sample_x.shape[-1]\n",
        "# Количество скрытых нейронов в каждой ячейке\n",
        "hidden_dim = 15\n",
        "# Количество ячеек рекуррентной сети (в глубину)\n",
        "layers_stacked_count = 2\n",
        "\n",
        "# Параметры оптимизатора \n",
        "# Скорость обучения маленькая (скорость обучения позволяет алгоритму не расходиться во время обучения)\n",
        "learning_rate = 0.05\n",
        "# Количество итераций по обучающей выборке \n",
        "nb_iters = 2000\n",
        "# Дополнительные параметры алгоритма оптимизации\n",
        "lr_decay = 0.8\n",
        "momentum = 0.3\n",
        "# Коэффициент L2 регуляризации\n",
        "lambda_l2_reg = 0.003"
      ],
      "execution_count": 0,
      "outputs": []
    },
    {
      "cell_type": "code",
      "metadata": {
        "id": "aoaWp8hxlKVf",
        "colab_type": "code",
        "colab": {
          "base_uri": "https://localhost:8080/",
          "height": 156
        },
        "outputId": "eb4ee5d9-6a6f-494d-9062-78550e8f9b96"
      },
      "source": [
        "tf.nn.seq2seq = tf.contrib.legacy_seq2seq\n",
        "tf.nn.rnn_cell = tf.contrib.rnn\n",
        "tf.nn.rnn_cell.GRUCell = tf.contrib.rnn.GRUCell"
      ],
      "execution_count": 5,
      "outputs": [
        {
          "output_type": "stream",
          "text": [
            "WARNING:tensorflow:\n",
            "The TensorFlow contrib module will not be included in TensorFlow 2.0.\n",
            "For more information, please see:\n",
            "  * https://github.com/tensorflow/community/blob/master/rfcs/20180907-contrib-sunset.md\n",
            "  * https://github.com/tensorflow/addons\n",
            "  * https://github.com/tensorflow/io (for I/O related ops)\n",
            "If you depend on functionality not listed there, please file an issue.\n",
            "\n"
          ],
          "name": "stdout"
        }
      ]
    },
    {
      "cell_type": "code",
      "metadata": {
        "id": "PoWhtIzYlRsq",
        "colab_type": "code",
        "colab": {}
      },
      "source": [
        "tf.reset_default_graph()\n",
        "# интерактивная сессия\n",
        "sess = tf.InteractiveSession()"
      ],
      "execution_count": 0,
      "outputs": []
    },
    {
      "cell_type": "code",
      "metadata": {
        "id": "-opUlloSlUVc",
        "colab_type": "code",
        "colab": {
          "base_uri": "https://localhost:8080/",
          "height": 349
        },
        "outputId": "888df6b3-235e-4024-e58e-80c6266a0d8d"
      },
      "source": [
        "with tf.variable_scope('Seq2seq'):\n",
        "    enc_inp = [\n",
        "        tf.placeholder(tf.float32, shape=(None, input_dim), name=\"inp_{}\".format(t))\n",
        "            for t in range(seq_length)\n",
        "    ]\n",
        "\n",
        "    expected_sparse_output = [\n",
        "        tf.placeholder(tf.float32 , shape=(None , output_dim), name=\"expected_sparse_output_\".format(t))\n",
        "            for t in range(seq_length)\n",
        "    ]\n",
        "    \n",
        "    dec_inp = [ tf.zeros_like(enc_inp[0], dtype=np.float32 , name=\"GO\") ] + enc_inp[:-1]\n",
        "    \n",
        "    cells = []\n",
        "    for i in range(layers_stacked_count):\n",
        "        with tf.variable_scope('RNN_{}'.format(i)):\n",
        "            cells.append(tf.nn.rnn_cell.GRUCell(hidden_dim))\n",
        "            \n",
        "    cell = tf.nn.rnn_cell.MultiRNNCell(cells)\n",
        "    \n",
        "    w_in = tf.Variable(tf.random_normal([input_dim , hidden_dim]))\n",
        "    b_in = tf.Variable(tf.random_normal([hidden_dim], mean=1.0))\n",
        "    w_out = tf.Variable(tf.random_normal([hidden_dim , output_dim]))\n",
        "    b_out = tf.Variable(tf.random_normal([output_dim]))\n",
        "\n",
        "    reshaped_inputs = [tf.nn.relu(tf.matmul(i, w_in) + b_in) for i in enc_inp]\n",
        "    \n",
        "    dec_outputs, dec_memory = tf.nn.seq2seq.basic_rnn_seq2seq(enc_inp, dec_inp, cell)\n",
        "    \n",
        "    output_scale_factor = tf.Variable(1.0, name=\"Output_ScaleFactor\")\n",
        "    reshaped_outputs = [output_scale_factor * (tf.matmul(i, w_out) + b_out) for i in dec_outputs]"
      ],
      "execution_count": 7,
      "outputs": [
        {
          "output_type": "stream",
          "text": [
            "WARNING:tensorflow:From <ipython-input-7-a9e263b0cf24>:17: GRUCell.__init__ (from tensorflow.python.ops.rnn_cell_impl) is deprecated and will be removed in a future version.\n",
            "Instructions for updating:\n",
            "This class is equivalent as tf.keras.layers.GRUCell, and will be replaced by that in Tensorflow 2.0.\n",
            "WARNING:tensorflow:From <ipython-input-7-a9e263b0cf24>:19: MultiRNNCell.__init__ (from tensorflow.python.ops.rnn_cell_impl) is deprecated and will be removed in a future version.\n",
            "Instructions for updating:\n",
            "This class is equivalent as tf.keras.layers.StackedRNNCells, and will be replaced by that in Tensorflow 2.0.\n",
            "WARNING:tensorflow:From /tensorflow-1.15.2/python3.6/tensorflow_core/contrib/legacy_seq2seq/python/ops/seq2seq.py:186: static_rnn (from tensorflow.python.ops.rnn) is deprecated and will be removed in a future version.\n",
            "Instructions for updating:\n",
            "Please use `keras.layers.RNN(cell, unroll=True)`, which is equivalent to this API\n",
            "WARNING:tensorflow:From /tensorflow-1.15.2/python3.6/tensorflow_core/python/ops/rnn_cell_impl.py:559: Layer.add_variable (from tensorflow.python.keras.engine.base_layer) is deprecated and will be removed in a future version.\n",
            "Instructions for updating:\n",
            "Please use `layer.add_weight` method instead.\n",
            "WARNING:tensorflow:From /tensorflow-1.15.2/python3.6/tensorflow_core/python/ops/rnn_cell_impl.py:565: calling Constant.__init__ (from tensorflow.python.ops.init_ops) with dtype is deprecated and will be removed in a future version.\n",
            "Instructions for updating:\n",
            "Call initializer instance with the dtype argument instead of passing it to the constructor\n",
            "WARNING:tensorflow:From /tensorflow-1.15.2/python3.6/tensorflow_core/python/ops/rnn_cell_impl.py:575: calling Zeros.__init__ (from tensorflow.python.ops.init_ops) with dtype is deprecated and will be removed in a future version.\n",
            "Instructions for updating:\n",
            "Call initializer instance with the dtype argument instead of passing it to the constructor\n"
          ],
          "name": "stdout"
        }
      ]
    },
    {
      "cell_type": "code",
      "metadata": {
        "id": "SXoyWOMDlYqO",
        "colab_type": "code",
        "colab": {}
      },
      "source": [
        "with tf.variable_scope('Loss'):\n",
        "    # L2 loss\n",
        "    output_loss = 0\n",
        "    for _y, _Y in zip(reshaped_outputs, expected_sparse_output):\n",
        "        output_loss += tf.reduce_mean(tf.nn.l2_loss(_y - _Y))\n",
        "\n",
        "    # слагаемое, отвечающее за L2 регуляризацию\n",
        "    reg_loss = 0\n",
        "    for tf_var in tf.trainable_variables():\n",
        "        if not (\"Bias\" in tf_var.name or \"Output_\" in tf_var.name):\n",
        "            reg_loss += tf.reduce_mean(tf.nn.l2_loss(tf_var))\n",
        "\n",
        "    loss = output_loss  + lambda_l2_reg * reg_loss"
      ],
      "execution_count": 0,
      "outputs": []
    },
    {
      "cell_type": "code",
      "metadata": {
        "id": "dEdlpxg7ldQG",
        "colab_type": "code",
        "colab": {
          "base_uri": "https://localhost:8080/",
          "height": 89
        },
        "outputId": "ce9a6d44-c3a9-4646-a805-804a6e7ccd59"
      },
      "source": [
        "with tf.variable_scope('Optimizer'):\n",
        "    optimizer = tf.train.RMSPropOptimizer(learning_rate, decay=lr_decay, momentum=momentum)\n",
        "    train_op = optimizer.minimize(loss)"
      ],
      "execution_count": 9,
      "outputs": [
        {
          "output_type": "stream",
          "text": [
            "WARNING:tensorflow:From /tensorflow-1.15.2/python3.6/tensorflow_core/python/training/rmsprop.py:119: calling Ones.__init__ (from tensorflow.python.ops.init_ops) with dtype is deprecated and will be removed in a future version.\n",
            "Instructions for updating:\n",
            "Call initializer instance with the dtype argument instead of passing it to the constructor\n"
          ],
          "name": "stdout"
        }
      ]
    },
    {
      "cell_type": "code",
      "metadata": {
        "id": "KXjLoN0Cli23",
        "colab_type": "code",
        "colab": {}
      },
      "source": [
        "# Шаг обучения, который оптимизирует веса в соответствии с переданным минипакетом-примеров\n",
        "def train_batch(batch_size):\n",
        "    X, Y = generate_x_y_data_v1(isTrain=True , batch_size=batch_size)\n",
        "    feed_dict = {enc_inp[t]: X[t] for t in range(len(enc_inp))} \n",
        "    feed_dict.update({expected_sparse_output[t]: Y[t] for t in range(len(expected_sparse_output))}) \n",
        "    #  запускаем сессию. При этом рассчитываются тензоры, указанные в первом параметре, \n",
        "    # а значения для них берутся из второго параметра\n",
        "    _, loss_t = sess.run([train_op , loss], feed_dict)\n",
        "    \n",
        "    return loss_t"
      ],
      "execution_count": 0,
      "outputs": []
    },
    {
      "cell_type": "code",
      "metadata": {
        "id": "acJcIMPAlklQ",
        "colab_type": "code",
        "colab": {
          "base_uri": "https://localhost:8080/",
          "height": 1000
        },
        "outputId": "22c9cc56-5937-46b0-faa1-ddf2582334a5"
      },
      "source": [
        "# Тестовый прогон. Веса не обновляются благодаря тому, что переменная train_op не передается в sess.run\n",
        "def test_batch(batch_size, graph=False): \n",
        "    X, Y = generate_x_y_data_v1(isTrain=False, batch_size=batch_size)\n",
        "    feed_dict = {enc_inp[t]: X[t] for t in range(len(enc_inp))}\n",
        "    feed_dict.update({expected_sparse_output[t]: Y[t] for t in range(len(expected_sparse_output))}) \n",
        "    loss_t = sess.run([loss], feed_dict)\n",
        "    \n",
        "    return loss_t[0]\n",
        "\n",
        "train_losses = []\n",
        "test_losses = []\n",
        "sess.run(tf.global_variables_initializer())\n",
        "\n",
        "#nb_iters - количество шагов для обучения. После каждых 10 шагов проверяется ошибка на тестовой выборке\n",
        "\n",
        "for t in range(nb_iters+1):\n",
        "    train_loss = train_batch(batch_size)\n",
        "    train_losses.append(train_loss)\n",
        "\n",
        "    if t % 10 == 0:\n",
        "        test_loss = test_batch(batch_size, t==nb_iters)\n",
        "        test_losses.append(test_loss)\n",
        "        print(\"Step {}/{}, train loss: {}, \\tTEST loss: {}\".format(t, nb_iters , train_loss , test_loss))\n",
        "\n",
        "print(\"Final:. train loss: {}, \\tTEST loss: {}\".format(train_loss , test_loss))"
      ],
      "execution_count": 11,
      "outputs": [
        {
          "output_type": "stream",
          "text": [
            "Step 0/2000, train loss: 92.89290618896484, \tTEST loss: 142.00193786621094\n",
            "Step 10/2000, train loss: 3.599522352218628, \tTEST loss: 6.033695697784424\n",
            "Step 20/2000, train loss: 2.5111536979675293, \tTEST loss: 5.605470657348633\n",
            "Step 30/2000, train loss: 1.3452913761138916, \tTEST loss: 2.041018009185791\n",
            "Step 40/2000, train loss: 4.434094429016113, \tTEST loss: 4.864115238189697\n",
            "Step 50/2000, train loss: 1.3428807258605957, \tTEST loss: 2.0670597553253174\n",
            "Step 60/2000, train loss: 1.2628023624420166, \tTEST loss: 2.633741617202759\n",
            "Step 70/2000, train loss: 2.755650520324707, \tTEST loss: 4.232472896575928\n",
            "Step 80/2000, train loss: 2.5135560035705566, \tTEST loss: 4.631054401397705\n",
            "Step 90/2000, train loss: 2.56970477104187, \tTEST loss: 4.6221723556518555\n",
            "Step 100/2000, train loss: 1.0605237483978271, \tTEST loss: 1.1829240322113037\n",
            "Step 110/2000, train loss: 1.33384108543396, \tTEST loss: 2.090040683746338\n",
            "Step 120/2000, train loss: 1.011913776397705, \tTEST loss: 1.2100470066070557\n",
            "Step 130/2000, train loss: 2.722411870956421, \tTEST loss: 2.1849136352539062\n",
            "Step 140/2000, train loss: 1.1306496858596802, \tTEST loss: 1.111536979675293\n",
            "Step 150/2000, train loss: 1.3528335094451904, \tTEST loss: 1.3007197380065918\n",
            "Step 160/2000, train loss: 0.8325263261795044, \tTEST loss: 0.9515182375907898\n",
            "Step 170/2000, train loss: 0.9438827037811279, \tTEST loss: 1.0579726696014404\n",
            "Step 180/2000, train loss: 1.3487632274627686, \tTEST loss: 1.1089556217193604\n",
            "Step 190/2000, train loss: 2.5902554988861084, \tTEST loss: 1.7987854480743408\n",
            "Step 200/2000, train loss: 0.6595056056976318, \tTEST loss: 0.6515597105026245\n",
            "Step 210/2000, train loss: 0.8294988870620728, \tTEST loss: 0.7568169236183167\n",
            "Step 220/2000, train loss: 1.5127859115600586, \tTEST loss: 1.5403761863708496\n",
            "Step 230/2000, train loss: 1.378501534461975, \tTEST loss: 1.459039568901062\n",
            "Step 240/2000, train loss: 0.6129180192947388, \tTEST loss: 0.6062934398651123\n",
            "Step 250/2000, train loss: 1.4401036500930786, \tTEST loss: 1.1310327053070068\n",
            "Step 260/2000, train loss: 1.0176141262054443, \tTEST loss: 1.2552374601364136\n",
            "Step 270/2000, train loss: 0.9410523772239685, \tTEST loss: 0.6940085291862488\n",
            "Step 280/2000, train loss: 1.2658987045288086, \tTEST loss: 1.2510960102081299\n",
            "Step 290/2000, train loss: 0.8727021813392639, \tTEST loss: 0.8002984523773193\n",
            "Step 300/2000, train loss: 0.7748962044715881, \tTEST loss: 0.8423115015029907\n",
            "Step 310/2000, train loss: 0.9813531041145325, \tTEST loss: 1.0645196437835693\n",
            "Step 320/2000, train loss: 1.828127384185791, \tTEST loss: 1.621023416519165\n",
            "Step 330/2000, train loss: 1.2151341438293457, \tTEST loss: 1.4377254247665405\n",
            "Step 340/2000, train loss: 0.918586254119873, \tTEST loss: 1.063309907913208\n",
            "Step 350/2000, train loss: 0.9870795011520386, \tTEST loss: 1.1127231121063232\n",
            "Step 360/2000, train loss: 0.7329100370407104, \tTEST loss: 0.5191390514373779\n",
            "Step 370/2000, train loss: 0.4332242012023926, \tTEST loss: 0.6866750717163086\n",
            "Step 380/2000, train loss: 0.8056972026824951, \tTEST loss: 1.309259057044983\n",
            "Step 390/2000, train loss: 0.9054456353187561, \tTEST loss: 0.9681416153907776\n",
            "Step 400/2000, train loss: 0.6078845858573914, \tTEST loss: 0.7422597408294678\n",
            "Step 410/2000, train loss: 0.5419061183929443, \tTEST loss: 0.6074799299240112\n",
            "Step 420/2000, train loss: 0.86723792552948, \tTEST loss: 0.6604105234146118\n",
            "Step 430/2000, train loss: 0.9166684150695801, \tTEST loss: 0.9179292917251587\n",
            "Step 440/2000, train loss: 1.0468978881835938, \tTEST loss: 0.6550192832946777\n",
            "Step 450/2000, train loss: 1.3561556339263916, \tTEST loss: 0.569025993347168\n",
            "Step 460/2000, train loss: 0.5218613147735596, \tTEST loss: 0.5504589080810547\n",
            "Step 470/2000, train loss: 1.2671223878860474, \tTEST loss: 0.6205374598503113\n",
            "Step 480/2000, train loss: 0.6582071781158447, \tTEST loss: 0.6465977430343628\n",
            "Step 490/2000, train loss: 0.8604234457015991, \tTEST loss: 0.8911606073379517\n",
            "Step 500/2000, train loss: 0.8360072374343872, \tTEST loss: 1.1100974082946777\n",
            "Step 510/2000, train loss: 0.3512234687805176, \tTEST loss: 0.3455657660961151\n",
            "Step 520/2000, train loss: 1.0235400199890137, \tTEST loss: 0.7990351319313049\n",
            "Step 530/2000, train loss: 0.7508054971694946, \tTEST loss: 0.9892234206199646\n",
            "Step 540/2000, train loss: 1.1763397455215454, \tTEST loss: 1.0575339794158936\n",
            "Step 550/2000, train loss: 0.9719295501708984, \tTEST loss: 0.8064299821853638\n",
            "Step 560/2000, train loss: 0.9728108644485474, \tTEST loss: 1.2288732528686523\n",
            "Step 570/2000, train loss: 0.6299310922622681, \tTEST loss: 0.7640113830566406\n",
            "Step 580/2000, train loss: 0.41158339381217957, \tTEST loss: 0.5450128316879272\n",
            "Step 590/2000, train loss: 0.5053067803382874, \tTEST loss: 0.47680139541625977\n",
            "Step 600/2000, train loss: 0.8124760985374451, \tTEST loss: 0.6760097742080688\n",
            "Step 610/2000, train loss: 0.841235876083374, \tTEST loss: 1.4020836353302002\n",
            "Step 620/2000, train loss: 0.4960877299308777, \tTEST loss: 0.39746588468551636\n",
            "Step 630/2000, train loss: 0.8407672047615051, \tTEST loss: 1.0996559858322144\n",
            "Step 640/2000, train loss: 0.4915068745613098, \tTEST loss: 0.5100870132446289\n",
            "Step 650/2000, train loss: 0.7151280641555786, \tTEST loss: 0.8410627245903015\n",
            "Step 660/2000, train loss: 0.3289889395236969, \tTEST loss: 0.4961421489715576\n",
            "Step 670/2000, train loss: 1.7966946363449097, \tTEST loss: 2.319695472717285\n",
            "Step 680/2000, train loss: 0.6320260763168335, \tTEST loss: 0.40595361590385437\n",
            "Step 690/2000, train loss: 0.8591302037239075, \tTEST loss: 0.7427887320518494\n",
            "Step 700/2000, train loss: 1.39720618724823, \tTEST loss: 0.8653817176818848\n",
            "Step 710/2000, train loss: 1.3342235088348389, \tTEST loss: 0.5688066482543945\n",
            "Step 720/2000, train loss: 0.9770867824554443, \tTEST loss: 1.3196247816085815\n",
            "Step 730/2000, train loss: 0.5340980291366577, \tTEST loss: 0.568924069404602\n",
            "Step 740/2000, train loss: 0.64700847864151, \tTEST loss: 1.1243010759353638\n",
            "Step 750/2000, train loss: 0.6356341242790222, \tTEST loss: 0.5712524056434631\n",
            "Step 760/2000, train loss: 1.5329231023788452, \tTEST loss: 1.149156093597412\n",
            "Step 770/2000, train loss: 0.9155244827270508, \tTEST loss: 0.6440130472183228\n",
            "Step 780/2000, train loss: 1.0030725002288818, \tTEST loss: 0.8787893652915955\n",
            "Step 790/2000, train loss: 1.0101579427719116, \tTEST loss: 0.8689152002334595\n",
            "Step 800/2000, train loss: 0.868454098701477, \tTEST loss: 0.8072278499603271\n",
            "Step 810/2000, train loss: 0.8140358328819275, \tTEST loss: 0.5775222778320312\n",
            "Step 820/2000, train loss: 0.44608253240585327, \tTEST loss: 0.5089296698570251\n",
            "Step 830/2000, train loss: 0.4173929989337921, \tTEST loss: 0.4922991096973419\n",
            "Step 840/2000, train loss: 0.7305500507354736, \tTEST loss: 0.4092082381248474\n",
            "Step 850/2000, train loss: 0.8548024892807007, \tTEST loss: 1.2935861349105835\n",
            "Step 860/2000, train loss: 0.6404288411140442, \tTEST loss: 0.502069890499115\n",
            "Step 870/2000, train loss: 0.7491756677627563, \tTEST loss: 0.620752215385437\n",
            "Step 880/2000, train loss: 0.5810861587524414, \tTEST loss: 0.5282274484634399\n",
            "Step 890/2000, train loss: 0.5400353074073792, \tTEST loss: 0.6782335042953491\n",
            "Step 900/2000, train loss: 0.6958358287811279, \tTEST loss: 0.542918860912323\n",
            "Step 910/2000, train loss: 0.3998532295227051, \tTEST loss: 0.48484912514686584\n",
            "Step 920/2000, train loss: 0.9552901983261108, \tTEST loss: 1.0529927015304565\n",
            "Step 930/2000, train loss: 0.6596702337265015, \tTEST loss: 0.832302451133728\n",
            "Step 940/2000, train loss: 1.516286849975586, \tTEST loss: 1.613847017288208\n",
            "Step 950/2000, train loss: 0.3691508173942566, \tTEST loss: 0.6828609704971313\n",
            "Step 960/2000, train loss: 0.6479147672653198, \tTEST loss: 0.6999615430831909\n",
            "Step 970/2000, train loss: 1.0155431032180786, \tTEST loss: 0.49331164360046387\n",
            "Step 980/2000, train loss: 0.628593921661377, \tTEST loss: 0.8590721487998962\n",
            "Step 990/2000, train loss: 0.43090033531188965, \tTEST loss: 0.5499582290649414\n",
            "Step 1000/2000, train loss: 0.6755715608596802, \tTEST loss: 0.9835887551307678\n",
            "Step 1010/2000, train loss: 0.5770537853240967, \tTEST loss: 0.5795717835426331\n",
            "Step 1020/2000, train loss: 0.5451812744140625, \tTEST loss: 0.8177040219306946\n",
            "Step 1030/2000, train loss: 1.0409843921661377, \tTEST loss: 0.8688239455223083\n",
            "Step 1040/2000, train loss: 0.36193108558654785, \tTEST loss: 0.3824929893016815\n",
            "Step 1050/2000, train loss: 1.4988176822662354, \tTEST loss: 0.7969989776611328\n",
            "Step 1060/2000, train loss: 0.8502004742622375, \tTEST loss: 1.1738488674163818\n",
            "Step 1070/2000, train loss: 1.1209771633148193, \tTEST loss: 1.0046992301940918\n",
            "Step 1080/2000, train loss: 0.7338274717330933, \tTEST loss: 0.5709599256515503\n",
            "Step 1090/2000, train loss: 0.6098935008049011, \tTEST loss: 0.5714766979217529\n",
            "Step 1100/2000, train loss: 1.0525753498077393, \tTEST loss: 0.7874277234077454\n",
            "Step 1110/2000, train loss: 0.2843511700630188, \tTEST loss: 0.2922961115837097\n",
            "Step 1120/2000, train loss: 0.6873686909675598, \tTEST loss: 0.6397661566734314\n",
            "Step 1130/2000, train loss: 0.47835201025009155, \tTEST loss: 0.4618333578109741\n",
            "Step 1140/2000, train loss: 0.9108577370643616, \tTEST loss: 0.8762180209159851\n",
            "Step 1150/2000, train loss: 0.5988082885742188, \tTEST loss: 0.5760689377784729\n",
            "Step 1160/2000, train loss: 0.5456357002258301, \tTEST loss: 0.5554924011230469\n",
            "Step 1170/2000, train loss: 0.5204114317893982, \tTEST loss: 0.45587754249572754\n",
            "Step 1180/2000, train loss: 0.7372187376022339, \tTEST loss: 0.4446941018104553\n",
            "Step 1190/2000, train loss: 1.1906449794769287, \tTEST loss: 1.1762566566467285\n",
            "Step 1200/2000, train loss: 1.3594213724136353, \tTEST loss: 0.8111065626144409\n",
            "Step 1210/2000, train loss: 0.4985125660896301, \tTEST loss: 0.4085038900375366\n",
            "Step 1220/2000, train loss: 0.4787449836730957, \tTEST loss: 0.4937574863433838\n",
            "Step 1230/2000, train loss: 0.8125795125961304, \tTEST loss: 0.7185546159744263\n",
            "Step 1240/2000, train loss: 1.4072437286376953, \tTEST loss: 1.1778396368026733\n",
            "Step 1250/2000, train loss: 0.910153329372406, \tTEST loss: 0.7870668768882751\n",
            "Step 1260/2000, train loss: 1.0869771242141724, \tTEST loss: 0.6041976809501648\n",
            "Step 1270/2000, train loss: 0.5322940349578857, \tTEST loss: 0.6766260266304016\n",
            "Step 1280/2000, train loss: 0.6852205991744995, \tTEST loss: 0.643301248550415\n",
            "Step 1290/2000, train loss: 0.581194281578064, \tTEST loss: 0.5274593830108643\n",
            "Step 1300/2000, train loss: 0.47229039669036865, \tTEST loss: 0.4598785638809204\n",
            "Step 1310/2000, train loss: 1.351318120956421, \tTEST loss: 0.9950413107872009\n",
            "Step 1320/2000, train loss: 0.4386329650878906, \tTEST loss: 0.9057638645172119\n",
            "Step 1330/2000, train loss: 1.6250523328781128, \tTEST loss: 1.4701517820358276\n",
            "Step 1340/2000, train loss: 0.35211461782455444, \tTEST loss: 0.38882365822792053\n",
            "Step 1350/2000, train loss: 0.778213620185852, \tTEST loss: 1.0208240747451782\n",
            "Step 1360/2000, train loss: 1.047871708869934, \tTEST loss: 1.9298650026321411\n",
            "Step 1370/2000, train loss: 0.7181293368339539, \tTEST loss: 0.39347392320632935\n",
            "Step 1380/2000, train loss: 1.3518620729446411, \tTEST loss: 1.9439220428466797\n",
            "Step 1390/2000, train loss: 0.762589156627655, \tTEST loss: 1.0330827236175537\n",
            "Step 1400/2000, train loss: 0.44387364387512207, \tTEST loss: 0.5097700953483582\n",
            "Step 1410/2000, train loss: 0.45019710063934326, \tTEST loss: 0.6271138191223145\n",
            "Step 1420/2000, train loss: 0.45102959871292114, \tTEST loss: 0.38678932189941406\n",
            "Step 1430/2000, train loss: 0.4843854308128357, \tTEST loss: 0.6229879856109619\n",
            "Step 1440/2000, train loss: 0.631564736366272, \tTEST loss: 0.8365190625190735\n",
            "Step 1450/2000, train loss: 0.5453556180000305, \tTEST loss: 0.5764786005020142\n",
            "Step 1460/2000, train loss: 0.7610704302787781, \tTEST loss: 1.1687114238739014\n",
            "Step 1470/2000, train loss: 0.6536911725997925, \tTEST loss: 1.0455756187438965\n",
            "Step 1480/2000, train loss: 0.8226147890090942, \tTEST loss: 1.4727565050125122\n",
            "Step 1490/2000, train loss: 0.6102582216262817, \tTEST loss: 1.2404636144638062\n",
            "Step 1500/2000, train loss: 1.1215503215789795, \tTEST loss: 0.795272707939148\n",
            "Step 1510/2000, train loss: 0.7214693427085876, \tTEST loss: 0.6372115015983582\n",
            "Step 1520/2000, train loss: 0.5761497616767883, \tTEST loss: 0.4623907804489136\n",
            "Step 1530/2000, train loss: 0.8811546564102173, \tTEST loss: 1.2799224853515625\n",
            "Step 1540/2000, train loss: 0.6847028732299805, \tTEST loss: 0.5212433934211731\n",
            "Step 1550/2000, train loss: 0.5299328565597534, \tTEST loss: 0.6948435306549072\n",
            "Step 1560/2000, train loss: 0.5766226649284363, \tTEST loss: 0.7155707478523254\n",
            "Step 1570/2000, train loss: 0.861478328704834, \tTEST loss: 0.7652214765548706\n",
            "Step 1580/2000, train loss: 1.30294668674469, \tTEST loss: 1.0153043270111084\n",
            "Step 1590/2000, train loss: 0.37651124596595764, \tTEST loss: 0.4213658571243286\n",
            "Step 1600/2000, train loss: 0.8198756575584412, \tTEST loss: 0.6901174783706665\n",
            "Step 1610/2000, train loss: 0.8046642541885376, \tTEST loss: 0.41263312101364136\n",
            "Step 1620/2000, train loss: 0.8265267610549927, \tTEST loss: 0.8782231211662292\n",
            "Step 1630/2000, train loss: 0.40737807750701904, \tTEST loss: 0.35058215260505676\n",
            "Step 1640/2000, train loss: 0.590573251247406, \tTEST loss: 0.8518292903900146\n",
            "Step 1650/2000, train loss: 0.8434799909591675, \tTEST loss: 0.47176530957221985\n",
            "Step 1660/2000, train loss: 0.4793629050254822, \tTEST loss: 0.5875022411346436\n",
            "Step 1670/2000, train loss: 0.7943049669265747, \tTEST loss: 0.977125346660614\n",
            "Step 1680/2000, train loss: 0.8030781149864197, \tTEST loss: 1.2412772178649902\n",
            "Step 1690/2000, train loss: 0.48751962184906006, \tTEST loss: 0.35665807127952576\n",
            "Step 1700/2000, train loss: 0.648587167263031, \tTEST loss: 0.7883593440055847\n",
            "Step 1710/2000, train loss: 0.9799420833587646, \tTEST loss: 0.8620606064796448\n",
            "Step 1720/2000, train loss: 0.4763924479484558, \tTEST loss: 0.5879518389701843\n",
            "Step 1730/2000, train loss: 1.0191267728805542, \tTEST loss: 0.8193950653076172\n",
            "Step 1740/2000, train loss: 0.7579284310340881, \tTEST loss: 0.7857667803764343\n",
            "Step 1750/2000, train loss: 0.5004416704177856, \tTEST loss: 0.6925902366638184\n",
            "Step 1760/2000, train loss: 0.9960477352142334, \tTEST loss: 1.0589089393615723\n",
            "Step 1770/2000, train loss: 0.3690602779388428, \tTEST loss: 0.5124006271362305\n",
            "Step 1780/2000, train loss: 0.5783066749572754, \tTEST loss: 0.6819928884506226\n",
            "Step 1790/2000, train loss: 0.40482962131500244, \tTEST loss: 0.2618120014667511\n",
            "Step 1800/2000, train loss: 0.7708788514137268, \tTEST loss: 1.0007070302963257\n",
            "Step 1810/2000, train loss: 0.38860005140304565, \tTEST loss: 0.35490185022354126\n",
            "Step 1820/2000, train loss: 0.9930738210678101, \tTEST loss: 0.8605375289916992\n",
            "Step 1830/2000, train loss: 0.6716024279594421, \tTEST loss: 0.6327093243598938\n",
            "Step 1840/2000, train loss: 0.3595254421234131, \tTEST loss: 0.4269747734069824\n",
            "Step 1850/2000, train loss: 0.4696020483970642, \tTEST loss: 1.0002062320709229\n",
            "Step 1860/2000, train loss: 0.7092005014419556, \tTEST loss: 0.5185180902481079\n",
            "Step 1870/2000, train loss: 0.962448239326477, \tTEST loss: 0.9942258596420288\n",
            "Step 1880/2000, train loss: 0.4942983090877533, \tTEST loss: 0.657862663269043\n",
            "Step 1890/2000, train loss: 0.8532761931419373, \tTEST loss: 0.9235891699790955\n",
            "Step 1900/2000, train loss: 0.6058124303817749, \tTEST loss: 0.730525016784668\n",
            "Step 1910/2000, train loss: 0.6348065733909607, \tTEST loss: 0.7877444624900818\n",
            "Step 1920/2000, train loss: 0.4186002314090729, \tTEST loss: 0.45211002230644226\n",
            "Step 1930/2000, train loss: 0.3933884799480438, \tTEST loss: 0.6415460705757141\n",
            "Step 1940/2000, train loss: 0.863146960735321, \tTEST loss: 0.8879168033599854\n",
            "Step 1950/2000, train loss: 0.5576663613319397, \tTEST loss: 0.8888039588928223\n",
            "Step 1960/2000, train loss: 0.5022025108337402, \tTEST loss: 0.6760440468788147\n",
            "Step 1970/2000, train loss: 0.408560574054718, \tTEST loss: 0.7620729207992554\n",
            "Step 1980/2000, train loss: 0.5001290440559387, \tTEST loss: 0.5763617157936096\n",
            "Step 1990/2000, train loss: 0.5567806959152222, \tTEST loss: 0.5371115207672119\n",
            "Step 2000/2000, train loss: 1.231720209121704, \tTEST loss: 0.7791556119918823\n",
            "Final:. train loss: 1.231720209121704, \tTEST loss: 0.7791556119918823\n"
          ],
          "name": "stdout"
        }
      ]
    },
    {
      "cell_type": "code",
      "metadata": {
        "id": "DjS8NPoRluO_",
        "colab_type": "code",
        "colab": {
          "base_uri": "https://localhost:8080/",
          "height": 404
        },
        "outputId": "dcd6ab47-a9e0-4e0d-c7dc-24e320a5bbff"
      },
      "source": [
        "plt.figure(figsize=(12, 6))\n",
        "plt.plot( np.array(range(0, len(test_losses)))/float(len(test_losses)-1)*(len(train_losses)-1), np.log(test_losses), label=\"Test loss\")\n",
        "plt.plot(np.log(train_losses), label=\"Train loss\")\n",
        "\n",
        "plt.title(\"error vs time (log scale)\") \n",
        "plt.legend([\"Test\",\"Train\"])\n",
        "plt.xlabel('iter')\n",
        "plt.ylabel('log(Loss)') \n",
        "plt.show()"
      ],
      "execution_count": 12,
      "outputs": [
        {
          "output_type": "display_data",
          "data": {
            "image/png": "[encoded data removed]",
            "text/plain": [
              "<Figure size 864x432 with 1 Axes>"
            ]
          },
          "metadata": {
            "tags": [],
            "needs_background": "light"
          }
        }
      ]
    },
    {
      "cell_type": "code",
      "metadata": {
        "id": "jMpGd3HAl18a",
        "colab_type": "code",
        "colab": {
          "base_uri": "https://localhost:8080/",
          "height": 470
        },
        "outputId": "8639f593-d1df-43a4-9f98-8012f9fd5c8c"
      },
      "source": [
        "nb_predictions = 1\n",
        "print (\" Let 's visualize {} predictions with our signals :\". format (nb_predictions ))\n",
        "X, Y = generate_x_y_data_v1( isTrain =False , batch_size = nb_predictions )\n",
        "feed_dict = { enc_inp [t]: X[t] for t in range ( seq_length )}\n",
        "outputs = np.array( sess.run([ reshaped_outputs ], feed_dict )[0])\n",
        "# выводим предсказания по каждому пакету\n",
        "for j in range ( nb_predictions ):\n",
        "    plt.figure( figsize =(12 , 3))\n",
        "    for k in range ( output_dim ):\n",
        "        past = X[:,j,k]\n",
        "        expected = Y[:,j,k]\n",
        "        pred = outputs [:,j,k]\n",
        "    label1 = \" Seen ( past ) values \" if k ==0 else \" _nolegend_ \"\n",
        "    label2 = \" True future values \" if k ==0 else \" _nolegend_ \"\n",
        "    label3 = \" Predictions \" if k ==0 else \" _nolegend_ \"\n",
        "    plt.plot(range(len(past)), past , \"o--b\", label = label1 )\n",
        "    plt.plot(range(len(past),len(expected)+len(past)), expected, \"x--b\", label = label2)\n",
        "    plt.plot(range(len(past),len(pred) + len (past)), pred , \"o--y\", label = label3 )\n",
        "    plt.legend( loc ='best ')\n",
        "    plt.title(\" Predictions v.s. true values \")\n",
        "    plt.show()"
      ],
      "execution_count": 13,
      "outputs": [
        {
          "output_type": "stream",
          "text": [
            " Let 's visualize 1 predictions with our signals :\n"
          ],
          "name": "stdout"
        },
        {
          "output_type": "stream",
          "text": [
            "/usr/local/lib/python3.6/dist-packages/ipykernel_launcher.py:19: MatplotlibDeprecationWarning: Unrecognized location 'best '. Falling back on 'best'; valid locations are\n",
            "\tbest\n",
            "\tupper right\n",
            "\tupper left\n",
            "\tlower left\n",
            "\tlower right\n",
            "\tright\n",
            "\tcenter left\n",
            "\tcenter right\n",
            "\tlower center\n",
            "\tupper center\n",
            "\tcenter\n",
            "This will raise an exception in 3.3.\n"
          ],
          "name": "stderr"
        },
        {
          "output_type": "display_data",
          "data": {
            "image/png": "[encoded data removed]",
            "text/plain": [
              "<Figure size 864x216 with 1 Axes>"
            ]
          },
          "metadata": {
            "tags": [],
            "needs_background": "light"
          }
        }
      ]
    },
    {
      "cell_type": "code",
      "metadata": {
        "id": "rqtJADoml4GI",
        "colab_type": "code",
        "colab": {}
      },
      "source": [
        ""
      ],
      "execution_count": 0,
      "outputs": []
    },
    {
      "cell_type": "code",
      "metadata": {
        "id": "oU7nl7GSnDpL",
        "colab_type": "code",
        "colab": {}
      },
      "source": [
        ""
      ],
      "execution_count": 0,
      "outputs": []
    }
  ]
}